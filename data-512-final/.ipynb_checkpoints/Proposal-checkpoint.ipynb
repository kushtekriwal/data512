{
 "cells": [
  {
   "cell_type": "markdown",
   "metadata": {},
   "source": [
    "### Motivation"
   ]
  },
  {
   "cell_type": "markdown",
   "metadata": {},
   "source": [
    "For my final project, I want to dig deeper into fake news. This is a topic that has gained a lot of traction recently and I would like to explore what constitutes fake news as well as the dissemination in social media. From a human centered perspective, fake news has dire consequences. With the growing dependence on smartphones, more individiauls read their news on social media and, hence, viral fake news can influence people wrongly. Through this analysis, I hope to learn the characteristics or features that identify news as fake. I also plan to create a classifier that can label an article as fake. "
   ]
  },
  {
   "cell_type": "markdown",
   "metadata": {},
   "source": [
    "### Data"
   ]
  },
  {
   "cell_type": "markdown",
   "metadata": {},
   "source": [
    "For this analysis, I will be using FakeNewsNet - a data repository with news content, social context, and spatiotemporal information for studying fake news on social media. The repository can be found at https://github.com/KaiDMML/FakeNewsNet and the paper at https://arxiv.org/abs/1809.01286. FakeNewsNet contains 2 datasets collected using ground truths from Politifact and Gossipcop. Each source contributes one csv for fake news and the other real news. Hence, in total, I will work with four csv's. Each of the CSV files is comma separated file and have the following columns:\n",
    "1. id - Unique identifider for each news\n",
    "2. url - Url of the article from web that published that news\n",
    "3. title - Title of the news article\n",
    "4. tweet_ids - Tweet ids of tweets sharing the news. This field is list of tweet ids separated by tab.\n",
    "\n",
    "With this dataset, I wil be able to compare the fake news and real news. "
   ]
  },
  {
   "cell_type": "markdown",
   "metadata": {},
   "source": [
    "### Related Work"
   ]
  },
  {
   "cell_type": "markdown",
   "metadata": {},
   "source": [
    "There has been alot of work to distinguish between fake news and real news. For instance, Eliza Shoemaker created a tool for automating the detection of Fake News by identifying which features are more useful for different classifiers (Using data science to detect fake news, 2019). Similary, there has been many projects and repositories to build such classifiers. TowardsDataScience published an article which uses Recurrent Neural Networks to detect fake news. "
   ]
  },
  {
   "cell_type": "markdown",
   "metadata": {},
   "source": [
    "### Research Question"
   ]
  },
  {
   "cell_type": "markdown",
   "metadata": {},
   "source": [
    "Hence, my research question is: How accurately can we predict whether or not a news article is fake on the FakeNewsNet dataset? Consequently, I will analyze the bias of the classififer, by understaning the difference in performance between articles."
   ]
  },
  {
   "cell_type": "markdown",
   "metadata": {},
   "source": [
    "### Methodology"
   ]
  },
  {
   "cell_type": "markdown",
   "metadata": {},
   "source": [
    "After downloading the four csv's, my first step will be to scrape the news text from the URL's. I will apply pre-processing techniques to clean up the text and set a maximum sequence length. Next, I will conduct exploratory data analysis to understand the distribution of the dataset. This includes plotting histograms of the news sources and finding demogrpahic patterns in the titles. Next, I will build a classifier using Support Vector Machine and Recurrent Neural Networks. My hypothesis is that RNN with LSTM will perform best, as the news articles are fairly long. Finally, I will understand the bias of my model by conducting qualitative research.  "
   ]
  },
  {
   "cell_type": "markdown",
   "metadata": {},
   "source": [
    "### Unknowns"
   ]
  },
  {
   "cell_type": "markdown",
   "metadata": {},
   "source": [
    "I do not anticapte any factors outside of my control at this time. "
   ]
  },
  {
   "cell_type": "code",
   "execution_count": null,
   "metadata": {},
   "outputs": [],
   "source": []
  }
 ],
 "metadata": {
  "kernelspec": {
   "display_name": "Python 3",
   "language": "python",
   "name": "python3"
  },
  "language_info": {
   "codemirror_mode": {
    "name": "ipython",
    "version": 3
   },
   "file_extension": ".py",
   "mimetype": "text/x-python",
   "name": "python",
   "nbconvert_exporter": "python",
   "pygments_lexer": "ipython3",
   "version": "3.6.4"
  }
 },
 "nbformat": 4,
 "nbformat_minor": 2
}
