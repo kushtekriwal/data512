{
 "cells": [
  {
   "cell_type": "markdown",
   "metadata": {},
   "source": [
    "### Motivation"
   ]
  },
  {
   "cell_type": "markdown",
   "metadata": {},
   "source": [
    "For my final project, I want to dig deeper into fake news. This is a topic that has gained a lot of traction recently and I would like to explore what constitutes fake news as well as the dissemination in social media. From a human centered perspective, fake news has dire consequences. With the growing dependence on smartphones, more individiauls read their news on social media and, hence, viral fake news can influence people wrongly. Through this analysis, I hope to learn the characteristics or features that identify news as fake. I also plan to create a classifier that can label an article as fake. "
   ]
  },
  {
   "cell_type": "markdown",
   "metadata": {},
   "source": [
    "### Data"
   ]
  },
  {
   "cell_type": "markdown",
   "metadata": {},
   "source": [
    "For this analysis, I will be using FakeNewsNet - a data repository with news content, social context, and spatiotemporal information for studying fake news on social media. The repository can be found at https://github.com/KaiDMML/FakeNewsNet and the paper at https://arxiv.org/abs/1809.01286. FakeNewsNet contains 2 datasets collected using ground truths from Politifact and Gossipcop. Each source contributes one csv for fake news and the other real news. Hence, in total, I will work with four csv's. Each of the CSV files is comma separated file and have the following columns:\n",
    "1. id - Unique identifider for each news\n",
    "2. url - Url of the article from web that published that news\n",
    "3. title - Title of the news article\n",
    "4. tweet_ids - Tweet ids of tweets sharing the news. This field is list of tweet ids separated by tab.\n",
    "\n",
    "With this dataset, I wil be able to compare the fake news and real news. "
   ]
  },
  {
   "cell_type": "markdown",
   "metadata": {},
   "source": [
    "### Unknowns"
   ]
  },
  {
   "cell_type": "markdown",
   "metadata": {},
   "source": [
    "I do not anticapte any factors outside of my control at this time. "
   ]
  },
  {
   "cell_type": "code",
   "execution_count": null,
   "metadata": {},
   "outputs": [],
   "source": []
  }
 ],
 "metadata": {
  "kernelspec": {
   "display_name": "Python 3",
   "language": "python",
   "name": "python3"
  },
  "language_info": {
   "codemirror_mode": {
    "name": "ipython",
    "version": 3
   },
   "file_extension": ".py",
   "mimetype": "text/x-python",
   "name": "python",
   "nbconvert_exporter": "python",
   "pygments_lexer": "ipython3",
   "version": "3.6.4"
  }
 },
 "nbformat": 4,
 "nbformat_minor": 2
}
